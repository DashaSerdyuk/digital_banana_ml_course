{
 "cells": [
  {
   "cell_type": "code",
   "execution_count": 2,
   "metadata": {
    "collapsed": true
   },
   "outputs": [],
   "source": [
    "import pandas as pd\n",
    "import numpy as np"
   ]
  },
  {
   "cell_type": "markdown",
   "metadata": {},
   "source": [
    "### Пример построения нейронной сети"
   ]
  },
  {
   "cell_type": "code",
   "execution_count": 3,
   "metadata": {
    "collapsed": true
   },
   "outputs": [],
   "source": [
    "from sklearn.datasets import load_breast_cancer"
   ]
  },
  {
   "cell_type": "code",
   "execution_count": 32,
   "metadata": {
    "collapsed": true
   },
   "outputs": [],
   "source": [
    "breast_cancer = load_breast_cancer()\n",
    "X = breast_cancer.data\n",
    "Y = breast_cancer.target"
   ]
  },
  {
   "cell_type": "code",
   "execution_count": 5,
   "metadata": {},
   "outputs": [
    {
     "name": "stdout",
     "output_type": "stream",
     "text": [
      "30\n"
     ]
    }
   ],
   "source": [
    "input_shape = X.shape[1]\n",
    "print (input_shape)"
   ]
  },
  {
   "cell_type": "code",
   "execution_count": 1,
   "metadata": {
    "collapsed": true
   },
   "outputs": [],
   "source": [
    "from keras.models import Sequential\n",
    "from keras.layers import Dense, Activation"
   ]
  },
  {
   "cell_type": "code",
   "execution_count": 77,
   "metadata": {
    "collapsed": true
   },
   "outputs": [],
   "source": [
    "### сначала создаем класс модели\n",
    "model = Sequential()\n",
    "np.seed = 0\n",
    "### добавляем к ней слой - Dense\n",
    "### Первый параметр Dense - сколько нейронов будет на выходе слоя (в данном случае 100)\n",
    "### второй - сколько на входе слоя. Так как это наш первый слой нейронов, то на входе будет столько нейронов, сколько у нас\n",
    "### признаков - input_shape\n",
    "### Нужно еще выбрать, какая функция активации будет применяться на его выходе.\n",
    "### Параметр класса Activation - string, в котором указан тип функции ('relu'/'sigmoid'/'softmax'/'tanh')\n",
    "model.add(Dense(25, activation='relu', input_dim=30))"
   ]
  },
  {
   "cell_type": "code",
   "execution_count": 78,
   "metadata": {
    "collapsed": true
   },
   "outputs": [],
   "source": [
    "### Добавляем финальный слой - входов будет столько, сколько выходов на предыдущем слое(в нашем случае 100), а выход 1\n",
    "model.add(Dense(1, activation='sigmoid', input_dim=25))"
   ]
  },
  {
   "cell_type": "code",
   "execution_count": 79,
   "metadata": {
    "collapsed": true
   },
   "outputs": [],
   "source": [
    "model.compile(optimizer='adam',\n",
    "              loss='binary_crossentropy',\n",
    "              metrics=['accuracy'])"
   ]
  },
  {
   "cell_type": "code",
   "execution_count": 80,
   "metadata": {},
   "outputs": [
    {
     "name": "stdout",
     "output_type": "stream",
     "text": [
      "Epoch 1/30\n",
      "569/569 [==============================] - 1s 1ms/step - loss: 5.9399 - acc: 0.6274\n",
      "Epoch 2/30\n",
      "569/569 [==============================] - 0s 30us/step - loss: 5.9399 - acc: 0.6274\n",
      "Epoch 3/30\n",
      "569/569 [==============================] - 0s 34us/step - loss: 5.9399 - acc: 0.6274\n",
      "Epoch 4/30\n",
      "569/569 [==============================] - 0s 29us/step - loss: 5.9399 - acc: 0.6274\n",
      "Epoch 5/30\n",
      "569/569 [==============================] - 0s 41us/step - loss: 5.9399 - acc: 0.6274\n",
      "Epoch 6/30\n",
      "569/569 [==============================] - 0s 43us/step - loss: 5.9399 - acc: 0.6274\n",
      "Epoch 7/30\n",
      "569/569 [==============================] - 0s 39us/step - loss: 5.9399 - acc: 0.6274\n",
      "Epoch 8/30\n",
      "569/569 [==============================] - 0s 33us/step - loss: 5.9399 - acc: 0.6274\n",
      "Epoch 9/30\n",
      "569/569 [==============================] - 0s 30us/step - loss: 5.9399 - acc: 0.6274\n",
      "Epoch 10/30\n",
      "569/569 [==============================] - 0s 115us/step - loss: 5.9399 - acc: 0.6274\n",
      "Epoch 11/30\n",
      "569/569 [==============================] - 0s 35us/step - loss: 5.9399 - acc: 0.6274\n",
      "Epoch 12/30\n",
      "569/569 [==============================] - 0s 34us/step - loss: 5.9399 - acc: 0.6274\n",
      "Epoch 13/30\n",
      "569/569 [==============================] - 0s 59us/step - loss: 5.9399 - acc: 0.6274\n",
      "Epoch 14/30\n",
      "569/569 [==============================] - 0s 41us/step - loss: 5.9399 - acc: 0.6274\n",
      "Epoch 15/30\n",
      "569/569 [==============================] - 0s 25us/step - loss: 5.9399 - acc: 0.6274\n",
      "Epoch 16/30\n",
      "569/569 [==============================] - 0s 34us/step - loss: 5.9399 - acc: 0.6274\n",
      "Epoch 17/30\n",
      "569/569 [==============================] - 0s 23us/step - loss: 5.9399 - acc: 0.6274\n",
      "Epoch 18/30\n",
      "569/569 [==============================] - 0s 29us/step - loss: 5.9399 - acc: 0.6274\n",
      "Epoch 19/30\n",
      "569/569 [==============================] - 0s 37us/step - loss: 5.9399 - acc: 0.6274\n",
      "Epoch 20/30\n",
      "569/569 [==============================] - 0s 37us/step - loss: 5.9399 - acc: 0.6274\n",
      "Epoch 21/30\n",
      "569/569 [==============================] - 0s 48us/step - loss: 5.9399 - acc: 0.6274\n",
      "Epoch 22/30\n",
      "569/569 [==============================] - 0s 40us/step - loss: 5.9399 - acc: 0.6274\n",
      "Epoch 23/30\n",
      "569/569 [==============================] - 0s 49us/step - loss: 5.9399 - acc: 0.6274\n",
      "Epoch 24/30\n",
      "569/569 [==============================] - 0s 26us/step - loss: 5.9399 - acc: 0.6274\n",
      "Epoch 25/30\n",
      "569/569 [==============================] - 0s 44us/step - loss: 5.9399 - acc: 0.6274\n",
      "Epoch 26/30\n",
      "569/569 [==============================] - 0s 36us/step - loss: 5.9399 - acc: 0.6274\n",
      "Epoch 27/30\n",
      "569/569 [==============================] - 0s 40us/step - loss: 5.9399 - acc: 0.6274\n",
      "Epoch 28/30\n",
      "569/569 [==============================] - 0s 35us/step - loss: 5.9399 - acc: 0.6274\n",
      "Epoch 29/30\n",
      "569/569 [==============================] - 0s 41us/step - loss: 5.9399 - acc: 0.6274\n",
      "Epoch 30/30\n",
      "569/569 [==============================] - 0s 41us/step - loss: 5.9399 - acc: 0.6274\n"
     ]
    },
    {
     "data": {
      "text/plain": [
       "<keras.callbacks.History at 0x1867cdffb38>"
      ]
     },
     "execution_count": 80,
     "metadata": {},
     "output_type": "execute_result"
    }
   ],
   "source": [
    "model.fit(X, Y, epochs=30, batch_size=128)"
   ]
  },
  {
   "cell_type": "markdown",
   "metadata": {},
   "source": [
    "### С отложенной выборкой"
   ]
  },
  {
   "cell_type": "code",
   "execution_count": 76,
   "metadata": {},
   "outputs": [
    {
     "name": "stdout",
     "output_type": "stream",
     "text": [
      "Train on 455 samples, validate on 114 samples\n",
      "Epoch 1/30\n",
      "455/455 [==============================] - 0s 430us/step - loss: 9.5292 - acc: 0.4088 - val_loss: 12.4420 - val_acc: 0.2281\n",
      "Epoch 2/30\n",
      "455/455 [==============================] - 0s 30us/step - loss: 9.5292 - acc: 0.4088 - val_loss: 12.4420 - val_acc: 0.2281\n",
      "Epoch 3/30\n",
      "455/455 [==============================] - 0s 43us/step - loss: 9.5292 - acc: 0.4088 - val_loss: 12.4420 - val_acc: 0.2281\n",
      "Epoch 4/30\n",
      "455/455 [==============================] - 0s 37us/step - loss: 9.5292 - acc: 0.4088 - val_loss: 12.4420 - val_acc: 0.2281\n",
      "Epoch 5/30\n",
      "455/455 [==============================] - 0s 42us/step - loss: 9.5292 - acc: 0.4088 - val_loss: 12.4420 - val_acc: 0.2281\n",
      "Epoch 6/30\n",
      "455/455 [==============================] - 0s 35us/step - loss: 9.5292 - acc: 0.4088 - val_loss: 12.4420 - val_acc: 0.2281\n",
      "Epoch 7/30\n",
      "455/455 [==============================] - 0s 44us/step - loss: 9.5292 - acc: 0.4088 - val_loss: 12.4420 - val_acc: 0.2281\n",
      "Epoch 8/30\n",
      "455/455 [==============================] - 0s 37us/step - loss: 9.5292 - acc: 0.4088 - val_loss: 12.4420 - val_acc: 0.2281\n",
      "Epoch 9/30\n",
      "455/455 [==============================] - 0s 42us/step - loss: 9.5292 - acc: 0.4088 - val_loss: 12.4420 - val_acc: 0.2281\n",
      "Epoch 10/30\n",
      "455/455 [==============================] - 0s 34us/step - loss: 9.5292 - acc: 0.4088 - val_loss: 12.4420 - val_acc: 0.2281\n",
      "Epoch 11/30\n",
      "455/455 [==============================] - 0s 39us/step - loss: 9.5292 - acc: 0.4088 - val_loss: 12.4420 - val_acc: 0.2281\n",
      "Epoch 12/30\n",
      "455/455 [==============================] - 0s 33us/step - loss: 9.5292 - acc: 0.4088 - val_loss: 12.4420 - val_acc: 0.2281\n",
      "Epoch 13/30\n",
      "455/455 [==============================] - 0s 42us/step - loss: 9.5292 - acc: 0.4088 - val_loss: 12.4420 - val_acc: 0.2281\n",
      "Epoch 14/30\n",
      "455/455 [==============================] - 0s 44us/step - loss: 9.5292 - acc: 0.4088 - val_loss: 12.4420 - val_acc: 0.2281\n",
      "Epoch 15/30\n",
      "455/455 [==============================] - 0s 42us/step - loss: 9.5292 - acc: 0.4088 - val_loss: 12.4420 - val_acc: 0.2281\n",
      "Epoch 16/30\n",
      "455/455 [==============================] - 0s 45us/step - loss: 9.5292 - acc: 0.4088 - val_loss: 12.4420 - val_acc: 0.2281\n",
      "Epoch 17/30\n",
      "455/455 [==============================] - 0s 31us/step - loss: 9.5292 - acc: 0.4088 - val_loss: 12.4420 - val_acc: 0.2281\n",
      "Epoch 18/30\n",
      "455/455 [==============================] - 0s 43us/step - loss: 9.5292 - acc: 0.4088 - val_loss: 12.4420 - val_acc: 0.2281\n",
      "Epoch 19/30\n",
      "455/455 [==============================] - 0s 43us/step - loss: 9.5292 - acc: 0.4088 - val_loss: 12.4420 - val_acc: 0.2281\n",
      "Epoch 20/30\n",
      "455/455 [==============================] - 0s 44us/step - loss: 9.5292 - acc: 0.4088 - val_loss: 12.4420 - val_acc: 0.2281\n",
      "Epoch 21/30\n",
      "455/455 [==============================] - 0s 42us/step - loss: 9.5292 - acc: 0.4088 - val_loss: 12.4420 - val_acc: 0.2281\n",
      "Epoch 22/30\n",
      "455/455 [==============================] - 0s 39us/step - loss: 9.5292 - acc: 0.4088 - val_loss: 12.4420 - val_acc: 0.2281\n",
      "Epoch 23/30\n",
      "455/455 [==============================] - 0s 36us/step - loss: 9.5292 - acc: 0.4088 - val_loss: 12.4420 - val_acc: 0.2281\n",
      "Epoch 24/30\n",
      "455/455 [==============================] - 0s 44us/step - loss: 9.5292 - acc: 0.4088 - val_loss: 12.4420 - val_acc: 0.2281\n",
      "Epoch 25/30\n",
      "455/455 [==============================] - 0s 34us/step - loss: 9.5292 - acc: 0.4088 - val_loss: 12.4420 - val_acc: 0.2281\n",
      "Epoch 26/30\n",
      "455/455 [==============================] - 0s 30us/step - loss: 9.5292 - acc: 0.4088 - val_loss: 12.4420 - val_acc: 0.2281\n",
      "Epoch 27/30\n",
      "455/455 [==============================] - 0s 42us/step - loss: 9.5292 - acc: 0.4088 - val_loss: 12.4420 - val_acc: 0.2281\n",
      "Epoch 28/30\n",
      "455/455 [==============================] - 0s 41us/step - loss: 9.5292 - acc: 0.4088 - val_loss: 12.4420 - val_acc: 0.2281\n",
      "Epoch 29/30\n",
      "455/455 [==============================] - 0s 28us/step - loss: 9.5292 - acc: 0.4088 - val_loss: 12.4420 - val_acc: 0.2281\n",
      "Epoch 30/30\n",
      "455/455 [==============================] - 0s 35us/step - loss: 9.5292 - acc: 0.4088 - val_loss: 12.4420 - val_acc: 0.2281\n"
     ]
    },
    {
     "data": {
      "text/plain": [
       "<keras.callbacks.History at 0x1867cd9edd8>"
      ]
     },
     "execution_count": 76,
     "metadata": {},
     "output_type": "execute_result"
    }
   ],
   "source": [
    "model.fit(X, Y, validation_split=0.2, epochs=30, batch_size=128)"
   ]
  },
  {
   "cell_type": "markdown",
   "metadata": {
    "collapsed": true
   },
   "source": [
    "### Домашнее задание "
   ]
  },
  {
   "cell_type": "code",
   "execution_count": 23,
   "metadata": {
    "collapsed": true
   },
   "outputs": [],
   "source": [
    "from sklearn.datasets import load_digits\n",
    "digits_dataset = load_digits()"
   ]
  },
  {
   "cell_type": "code",
   "execution_count": 25,
   "metadata": {
    "collapsed": true
   },
   "outputs": [],
   "source": [
    "X = digits_dataset.data\n",
    "Y = digits_dataset.target"
   ]
  },
  {
   "cell_type": "markdown",
   "metadata": {
    "collapsed": true
   },
   "source": [
    "Создать сеть c двумя скрытыми слоями: к примеру, на первом слое 100 нейронов, на втором 20, третий слой выходной - 1 нейрон\n",
    "Попробовать поэксперементировать с количеством нейронов на каждом слое, а так же с функцией активации."
   ]
  }
 ],
 "metadata": {
  "kernelspec": {
   "display_name": "Python 3",
   "language": "python",
   "name": "python3"
  },
  "language_info": {
   "codemirror_mode": {
    "name": "ipython",
    "version": 3
   },
   "file_extension": ".py",
   "mimetype": "text/x-python",
   "name": "python",
   "nbconvert_exporter": "python",
   "pygments_lexer": "ipython3",
   "version": "3.6.1"
  }
 },
 "nbformat": 4,
 "nbformat_minor": 2
}

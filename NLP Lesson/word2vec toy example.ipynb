{
 "cells": [
  {
   "cell_type": "code",
   "execution_count": 17,
   "metadata": {},
   "outputs": [],
   "source": [
    "from gensim import corpora, models, similarities, matutils\n",
    "import matplotlib.pyplot as plt\n",
    "import seaborn as sns\n",
    "%matplotlib inline\n",
    "import numpy as np"
   ]
  },
  {
   "cell_type": "code",
   "execution_count": 5,
   "metadata": {},
   "outputs": [],
   "source": [
    "from nltk.corpus import reuters"
   ]
  },
  {
   "cell_type": "code",
   "execution_count": 6,
   "metadata": {},
   "outputs": [
    {
     "name": "stdout",
     "output_type": "stream",
     "text": [
      "Всего  предложений: 54716\n",
      "Всего слов: 1720901\n"
     ]
    }
   ],
   "source": [
    "print(\"Всего  предложений: {0}\".format(len(reuters.sents())))\n",
    "print(\"Всего слов: {0}\".format(len(reuters.words())))"
   ]
  },
  {
   "cell_type": "code",
   "execution_count": 8,
   "metadata": {},
   "outputs": [],
   "source": [
    "# CBOW, окно=5, компнент в векторе=100\n",
    "model = models.Word2Vec(reuters.sents(), size=100, window=5, min_count=5, workers=4, sg=0)"
   ]
  },
  {
   "cell_type": "code",
   "execution_count": 22,
   "metadata": {},
   "outputs": [
    {
     "data": {
      "text/plain": [
       "[('crude', 0.7607175707817078),\n",
       " ('natural', 0.7332562208175659),\n",
       " ('fuel', 0.7167024612426758),\n",
       " ('gasoline', 0.6898035407066345),\n",
       " ('gas', 0.6767829060554504),\n",
       " ('pipeline', 0.650299072265625),\n",
       " ('spot', 0.6464951038360596),\n",
       " ('exploration', 0.6295895576477051),\n",
       " ('output', 0.6224173307418823),\n",
       " ('production', 0.6211074590682983)]"
      ]
     },
     "execution_count": 22,
     "metadata": {},
     "output_type": "execute_result"
    }
   ],
   "source": [
    "model.wv.similar_by_word(\"oil\")"
   ]
  },
  {
   "cell_type": "code",
   "execution_count": 30,
   "metadata": {},
   "outputs": [
    {
     "data": {
      "text/plain": [
       "[('economic', 0.8318949937820435),\n",
       " ('situation', 0.8128095865249634),\n",
       " ('policies', 0.8041431307792664),\n",
       " ('strength', 0.7985579371452332),\n",
       " ('growing', 0.7967620491981506),\n",
       " ('recession', 0.7940606474876404),\n",
       " ('external', 0.7934210300445557),\n",
       " ('trend', 0.7895259857177734),\n",
       " ('problem', 0.7839701175689697),\n",
       " ('policy', 0.7736639976501465)]"
      ]
     },
     "execution_count": 30,
     "metadata": {},
     "output_type": "execute_result"
    }
   ],
   "source": [
    "model.wv.similar_by_word(\"economy\")"
   ]
  },
  {
   "cell_type": "code",
   "execution_count": 34,
   "metadata": {},
   "outputs": [
    {
     "data": {
      "text/plain": [
       "[('small', 0.8687140941619873),\n",
       " ('smaller', 0.7866408228874207),\n",
       " ('risk', 0.7567628622055054),\n",
       " ('crisis', 0.7517421245574951),\n",
       " ('factors', 0.747647225856781),\n",
       " ('huge', 0.7467299699783325),\n",
       " ('major', 0.7416210770606995),\n",
       " ('growing', 0.739194393157959),\n",
       " ('partly', 0.7303204536437988),\n",
       " ('means', 0.7275477051734924)]"
      ]
     },
     "execution_count": 34,
     "metadata": {},
     "output_type": "execute_result"
    }
   ],
   "source": [
    "model.wv.similar_by_word(\"large\")"
   ]
  },
  {
   "cell_type": "code",
   "execution_count": 51,
   "metadata": {},
   "outputs": [
    {
     "data": {
      "text/plain": [
       "0.697131980979977"
      ]
     },
     "execution_count": 51,
     "metadata": {},
     "output_type": "execute_result"
    }
   ],
   "source": [
    "model.wv.similarity(\"France\", \"Germany\")"
   ]
  },
  {
   "cell_type": "code",
   "execution_count": 52,
   "metadata": {},
   "outputs": [
    {
     "data": {
      "text/plain": [
       "0.27754186851150475"
      ]
     },
     "execution_count": 52,
     "metadata": {},
     "output_type": "execute_result"
    }
   ],
   "source": [
    "model.wv.similarity(\"Canada\", \"US\")"
   ]
  },
  {
   "cell_type": "code",
   "execution_count": 48,
   "metadata": {},
   "outputs": [
    {
     "data": {
      "text/plain": [
       "[('Hong', 0.8157498240470886),\n",
       " ('Kong', 0.7681841850280762),\n",
       " ('America', 0.7577517628669739),\n",
       " ('North', 0.7015889883041382),\n",
       " ('Australia', 0.6965367794036865),\n",
       " ('Atlantic', 0.6951233148574829),\n",
       " ('Italy', 0.6945406794548035),\n",
       " ('Virginia', 0.6932430267333984),\n",
       " ('Commonwealth', 0.6921131014823914),\n",
       " ('Columbia', 0.6887733936309814)]"
      ]
     },
     "execution_count": 48,
     "metadata": {},
     "output_type": "execute_result"
    }
   ],
   "source": [
    "model.wv.most_similar(positive=['Canada', 'France'], negative=['Japan'])"
   ]
  },
  {
   "cell_type": "code",
   "execution_count": 50,
   "metadata": {},
   "outputs": [
    {
     "data": {
      "text/plain": [
       "[('Tokyo', 0.7869855761528015),\n",
       " ('Argentina', 0.7810214161872864),\n",
       " ('Washington', 0.7516515851020813),\n",
       " ('Iran', 0.7436643838882446),\n",
       " ('Iraq', 0.7351721525192261),\n",
       " ('Kuwait', 0.7350636124610901),\n",
       " ('Bonn', 0.732857346534729),\n",
       " ('forces', 0.7294527292251587),\n",
       " ('businessmen', 0.727522075176239),\n",
       " ('diplomatic', 0.7274485230445862)]"
      ]
     },
     "execution_count": 50,
     "metadata": {},
     "output_type": "execute_result"
    }
   ],
   "source": [
    "model.wv.most_similar(positive=['London', 'Moscow', 'Germany'])"
   ]
  },
  {
   "cell_type": "code",
   "execution_count": 55,
   "metadata": {},
   "outputs": [
    {
     "name": "stderr",
     "output_type": "stream",
     "text": [
      "/usr/local/lib/python3.5/dist-packages/ipykernel_launcher.py:6: DeprecationWarning: Call to deprecated `__getitem__` (Method will be removed in 4.0.0, use self.wv.__getitem__() instead).\n",
      "  \n"
     ]
    },
    {
     "data": {
      "image/png": "[encoded data removed]",
      "text/plain": [
       "<matplotlib.figure.Figure at 0x7fc26f14acf8>"
      ]
     },
     "metadata": {},
     "output_type": "display_data"
    }
   ],
   "source": [
    "#***код из интернета для визуализации***\n",
    "\n",
    "from sklearn.decomposition import PCA\n",
    "\n",
    "words = \"gas/Canada/oil/China/UK/London/Moscow/natural/France/Washington\".split(\"/\")\n",
    "word_vectors = [model[word] for word in words]\n",
    "# create and apply PCA transform\n",
    "pca = PCA(n_components=2)\n",
    "principal_components = pca.fit_transform(word_vectors)\n",
    "# slice the 2D array\n",
    "x = principal_components[:, 0]\n",
    "y = principal_components[:, 1]\n",
    "# plot with text annotation\n",
    "fig, ax = plt.subplots(figsize=(16,12))\n",
    "ax.scatter(x, y, s=0)\n",
    "for i, label in enumerate(words):\n",
    "    ax.annotate(label, (x[i], y[i]), size='x-large')"
   ]
  },
  {
   "cell_type": "markdown",
   "metadata": {},
   "source": [
    "## Попробуем другой датасет - movie reviews"
   ]
  },
  {
   "cell_type": "code",
   "execution_count": 56,
   "metadata": {},
   "outputs": [
    {
     "name": "stdout",
     "output_type": "stream",
     "text": [
      "Всего  предложений: 71532\n",
      "Всего слов: 1583820\n"
     ]
    }
   ],
   "source": [
    "from nltk.corpus import movie_reviews\n",
    "print(\"Всего  предложений: {0}\".format(len(movie_reviews.sents())))\n",
    "print(\"Всего слов: {0}\".format(len(movie_reviews.words())))"
   ]
  },
  {
   "cell_type": "code",
   "execution_count": 64,
   "metadata": {},
   "outputs": [],
   "source": [
    "model_r = models.Word2Vec(movie_reviews.sents(), size=100, window=3, min_count=3, workers=4, sg=0)"
   ]
  },
  {
   "cell_type": "code",
   "execution_count": 68,
   "metadata": {},
   "outputs": [
    {
     "data": {
      "text/plain": [
       "0.8048583576204864"
      ]
     },
     "execution_count": 68,
     "metadata": {},
     "output_type": "execute_result"
    }
   ],
   "source": [
    "model_r.wv.similarity(\"tarantino\", \"travolta\")"
   ]
  },
  {
   "cell_type": "code",
   "execution_count": 67,
   "metadata": {},
   "outputs": [
    {
     "data": {
      "text/plain": [
       "0.7354959624634569"
      ]
     },
     "execution_count": 67,
     "metadata": {},
     "output_type": "execute_result"
    }
   ],
   "source": [
    "model_r.wv.similarity(\"tarantino\", \"theron\")"
   ]
  },
  {
   "cell_type": "code",
   "execution_count": 69,
   "metadata": {},
   "outputs": [
    {
     "data": {
      "text/plain": [
       "[('producer', 0.7433897256851196),\n",
       " ('jim', 0.7407698631286621),\n",
       " ('former', 0.738857626914978),\n",
       " ('michael', 0.7368613481521606),\n",
       " ('willis', 0.7245895266532898),\n",
       " ('william', 0.7230663895606995),\n",
       " ('captain', 0.7219621539115906),\n",
       " ('tom', 0.7216625809669495),\n",
       " ('roger', 0.7203207612037659),\n",
       " ('james', 0.7199656367301941)]"
      ]
     },
     "execution_count": 69,
     "metadata": {},
     "output_type": "execute_result"
    }
   ],
   "source": [
    "model_r.wv.most_similar(positive=['woman', 'king'], negative=['love'])"
   ]
  },
  {
   "cell_type": "code",
   "execution_count": 70,
   "metadata": {},
   "outputs": [
    {
     "data": {
      "text/plain": [
       "[('former', 0.8061609268188477),\n",
       " ('lady', 0.7689892649650574),\n",
       " ('jack', 0.7584853172302246),\n",
       " ('leader', 0.7545984387397766),\n",
       " ('mysterious', 0.7508406639099121),\n",
       " ('queen', 0.744106650352478),\n",
       " ('partner', 0.7375525236129761),\n",
       " ('army', 0.7352516651153564),\n",
       " ('willis', 0.7339324951171875),\n",
       " ('cage', 0.72403883934021)]"
      ]
     },
     "execution_count": 70,
     "metadata": {},
     "output_type": "execute_result"
    }
   ],
   "source": [
    "model_r.wv.most_similar(positive=['woman', 'king'], negative=['men'][0][0])"
   ]
  },
  {
   "cell_type": "code",
   "execution_count": 71,
   "metadata": {},
   "outputs": [
    {
     "data": {
      "text/plain": [
       "[('cameron', 0.9312663078308105),\n",
       " ('miller', 0.9278277158737183),\n",
       " ('simon', 0.9211254715919495),\n",
       " ('malkovich', 0.9210548996925354),\n",
       " ('cusack', 0.9185729622840881),\n",
       " ('elizabeth', 0.91431725025177),\n",
       " ('crystal', 0.9098132848739624),\n",
       " ('stone', 0.9090636968612671),\n",
       " ('freeman', 0.9072277545928955),\n",
       " ('pitt', 0.906061053276062)]"
      ]
     },
     "execution_count": 71,
     "metadata": {},
     "output_type": "execute_result"
    }
   ],
   "source": [
    "model_r.wv.similar_by_word(\"travolta\")"
   ]
  },
  {
   "cell_type": "code",
   "execution_count": 76,
   "metadata": {},
   "outputs": [
    {
     "data": {
      "text/plain": [
       "[('harold', 0.9698687791824341),\n",
       " ('jonny', 0.9658735394477844),\n",
       " ('del', 0.9656310677528381),\n",
       " ('marshal', 0.9653959274291992),\n",
       " ('ward', 0.9652262330055237),\n",
       " ('haley', 0.9648804664611816),\n",
       " ('katt', 0.963979959487915),\n",
       " ('kathleen', 0.963445782661438),\n",
       " ('elias', 0.963142454624176),\n",
       " ('leslie', 0.9629198312759399)]"
      ]
     },
     "execution_count": 76,
     "metadata": {},
     "output_type": "execute_result"
    }
   ],
   "source": [
    "model_r.wv.most_similar(positive=['diaz', 'cruz', 'pitt'], negative=['travolta'])"
   ]
  },
  {
   "cell_type": "code",
   "execution_count": 77,
   "metadata": {},
   "outputs": [
    {
     "data": {
      "text/plain": [
       "[('horror', 0.6400281190872192),\n",
       " ('hollywood', 0.62734055519104),\n",
       " ('slasher', 0.6160204410552979),\n",
       " ('animated', 0.6127818822860718),\n",
       " ('history', 0.6079699397087097),\n",
       " ('genre', 0.5663665533065796),\n",
       " ('modern', 0.5583038330078125),\n",
       " ('cinematic', 0.5410255193710327),\n",
       " ('any', 0.5382308959960938),\n",
       " ('motion', 0.5362575054168701)]"
      ]
     },
     "execution_count": 77,
     "metadata": {},
     "output_type": "execute_result"
    }
   ],
   "source": [
    "model_r.wv.most_similar(positive=['tarantino'], negative=['travolta'])"
   ]
  }
 ],
 "metadata": {
  "kernelspec": {
   "display_name": "Python 3",
   "language": "python",
   "name": "python3"
  },
  "language_info": {
   "codemirror_mode": {
    "name": "ipython",
    "version": 3
   },
   "file_extension": ".py",
   "mimetype": "text/x-python",
   "name": "python",
   "nbconvert_exporter": "python",
   "pygments_lexer": "ipython3",
   "version": "3.5.2"
  }
 },
 "nbformat": 4,
 "nbformat_minor": 2
}

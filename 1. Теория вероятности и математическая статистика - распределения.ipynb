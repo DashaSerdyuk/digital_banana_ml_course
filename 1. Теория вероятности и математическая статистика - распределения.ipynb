{
 "cells": [
  {
   "cell_type": "code",
   "execution_count": 61,
   "metadata": {},
   "outputs": [],
   "source": [
    "import pandas as pd\n",
    "import numpy as np\n",
    "import scipy.stats as sts\n",
    "import matplotlib.pyplot as plt\n",
    "%matplotlib inline"
   ]
  },
  {
   "cell_type": "markdown",
   "metadata": {},
   "source": [
    "### Поговорим немного о распределениях "
   ]
  },
  {
   "cell_type": "markdown",
   "metadata": {},
   "source": [
    "**Пример 1**.\n",
    "\n",
    "У нас есть игральный кубик - 6 граней с числаси от 1 до 6.\n",
    "\n",
    "Какие вероятности выпадения каждой из возможных граней?\n",
    "\n",
    "P(1) = 1/6\n",
    "\n",
    "P(2) = 1/6\n",
    "\n",
    "P(3) = 1/6\n",
    "\n",
    "P(4) = 1/6\n",
    "\n",
    "P(5) = 1/6\n",
    "\n",
    "P(6) = 1/6\n",
    "\n",
    "Это - **теоретическое распределение** исходов игрального кубика - в теории, если много раз подбрасывать игральный кубик и посчитать практические вероятности их выпадения, то они должны быть близки по значениям к теоретическому распределению.\n",
    "\n",
    "Такое распределение называют **равномерным** - вероятности всех исходов равны между собой\n",
    "\n",
    "Какие еще примеры равномерного распределения можно встретить?"
   ]
  },
  {
   "cell_type": "code",
   "execution_count": 62,
   "metadata": {},
   "outputs": [
    {
     "data": {
      "text/plain": [
       "(array([ 1.,  0.,  1.,  0.,  1.,  0.,  1.,  0.,  1.,  0.,  1.]),\n",
       " array([ 1.        ,  1.45454545,  1.90909091,  2.36363636,  2.81818182,\n",
       "         3.27272727,  3.72727273,  4.18181818,  4.63636364,  5.09090909,\n",
       "         5.54545455,  6.        ]),\n",
       " <a list of 11 Patch objects>)"
      ]
     },
     "execution_count": 62,
     "metadata": {},
     "output_type": "execute_result"
    },
    {
     "data": {
      "image/png": "[encoded data removed]",
      "text/plain": [
       "<matplotlib.figure.Figure at 0x1c852c076a0>"
      ]
     },
     "metadata": {},
     "output_type": "display_data"
    }
   ],
   "source": [
    "### вот так это выглядит графически - для наглядной демонстрации распределений используют гистограммы\n",
    "\n",
    "theoretical_variants = np.array([1, 2, 3, 4, 5, 6])\n",
    "plt.hist(theoretical_variants, bins=11)"
   ]
  },
  {
   "cell_type": "markdown",
   "metadata": {},
   "source": [
    "Мы упомянули, что чем больше у нас испытаний в выборке, тем больше гистограмма этой выборки будет похожа на теоретическую. Давайте наглядно это продемонстрируем"
   ]
  },
  {
   "cell_type": "code",
   "execution_count": 63,
   "metadata": {},
   "outputs": [
    {
     "data": {
      "text/plain": [
       "(array([ 1.,  0.,  2.,  0.,  2.,  0.,  4.,  0.,  5.,  0.,  6.]),\n",
       " array([ 1.        ,  1.45454545,  1.90909091,  2.36363636,  2.81818182,\n",
       "         3.27272727,  3.72727273,  4.18181818,  4.63636364,  5.09090909,\n",
       "         5.54545455,  6.        ]),\n",
       " <a list of 11 Patch objects>)"
      ]
     },
     "execution_count": 63,
     "metadata": {},
     "output_type": "execute_result"
    },
    {
     "data": {
      "image/png": "[encoded data removed]",
      "text/plain": [
       "<matplotlib.figure.Figure at 0x1c8522deb38>"
      ]
     },
     "metadata": {},
     "output_type": "display_data"
    }
   ],
   "source": [
    "### подбрасываем кубик 20 раз. Как видим - у нас получается лишь общие очертания равномерного распределения\n",
    "n = 20\n",
    "\n",
    "results = []\n",
    "for i in range(n):\n",
    "    ### функция randint возвращает число из равномерного распределения от low (в нашем случае 1) до (high-1) (в нашем случае 6)\n",
    "    result = np.random.randint(1, 7)\n",
    "    results.append(result)\n",
    "    \n",
    "plt.hist(results, 11)"
   ]
  },
  {
   "cell_type": "code",
   "execution_count": 64,
   "metadata": {},
   "outputs": [
    {
     "data": {
      "text/plain": [
       "(array([ 53.,   0.,  34.,   0.,  39.,   0.,  42.,   0.,  43.,   0.,  39.]),\n",
       " array([ 1.        ,  1.45454545,  1.90909091,  2.36363636,  2.81818182,\n",
       "         3.27272727,  3.72727273,  4.18181818,  4.63636364,  5.09090909,\n",
       "         5.54545455,  6.        ]),\n",
       " <a list of 11 Patch objects>)"
      ]
     },
     "execution_count": 64,
     "metadata": {},
     "output_type": "execute_result"
    },
    {
     "data": {
      "image/png": "[encoded data removed]",
      "text/plain": [
       "<matplotlib.figure.Figure at 0x1c8523fdeb8>"
      ]
     },
     "metadata": {},
     "output_type": "display_data"
    }
   ],
   "source": [
    "### подбрасываем кубик 500 раз. Уже лучше - распределение становится похожим на \n",
    "n = 250\n",
    "\n",
    "results = []\n",
    "for i in range(n):\n",
    "    result = np.random.randint(1, 7)\n",
    "    results.append(result)\n",
    "    \n",
    "plt.hist(results, 11)"
   ]
  },
  {
   "cell_type": "code",
   "execution_count": 65,
   "metadata": {},
   "outputs": [
    {
     "data": {
      "text/plain": [
       "(array([ 1631.,     0.,  1668.,     0.,  1665.,     0.,  1708.,     0.,\n",
       "         1700.,     0.,  1628.]),\n",
       " array([ 1.        ,  1.45454545,  1.90909091,  2.36363636,  2.81818182,\n",
       "         3.27272727,  3.72727273,  4.18181818,  4.63636364,  5.09090909,\n",
       "         5.54545455,  6.        ]),\n",
       " <a list of 11 Patch objects>)"
      ]
     },
     "execution_count": 65,
     "metadata": {},
     "output_type": "execute_result"
    },
    {
     "data": {
      "image/png": "[encoded data removed]",
      "text/plain": [
       "<matplotlib.figure.Figure at 0x1c8533c0dd8>"
      ]
     },
     "metadata": {},
     "output_type": "display_data"
    }
   ],
   "source": [
    "### подбрасываем кубик 10000 раз. Здесь распределение выборки выглядит и вовсе практически идеально равномерным\n",
    "n = 10000\n",
    "\n",
    "results = []\n",
    "for i in range(n):\n",
    "    result = np.random.randint(1, 7)\n",
    "    results.append(result)\n",
    "    \n",
    "plt.hist(results, 11)"
   ]
  },
  {
   "cell_type": "markdown",
   "metadata": {},
   "source": [
    "Это наблюдение очень важно - оно отражает **закон больших чисел**. Мы не будем вникать в его математическую составляющую, а отметим основной смысл - чем больше наша выборка из некоторого закона распределения, тем более похоже распределение выборки на теоретическое распределение\n",
    "\n",
    "В том числе и поэтому в анализе данных очень важно, чтобы было как можно больше данных\n",
    "\n",
    "К примеру - предположим у нас было бы только 25 наблюдений признака . Как мы видели из гистограммы выше, распределение этой выборки не очень то было похоже на теоретическое равномерное. В такой ситуации нам тяжело сказать, дейтсвительно ли наша выборка была получена из равномерного распределения - вдруг, кубик был очень кривой, и какие-то грани даже теоретически будут выпадать чаще остальных?\n",
    "\n",
    "А вот когда у нас было 10000 наблюдений, то стало сразу понятно - выборка из равномерного распределения"
   ]
  },
  {
   "cell_type": "markdown",
   "metadata": {},
   "source": [
    "# Нормальное распределение"
   ]
  },
  {
   "cell_type": "markdown",
   "metadata": {},
   "source": [
    "Давайте обсудим еще одно распределение, которое является очень важным и с которы часто приходится иметь дело - оно называется **нормальным**"
   ]
  },
  {
   "cell_type": "code",
   "execution_count": 66,
   "metadata": {},
   "outputs": [
    {
     "data": {
      "image/png": "[encoded data removed]",
      "text/plain": [
       "<matplotlib.figure.Figure at 0x1c8526509b0>"
      ]
     },
     "metadata": {},
     "output_type": "display_data"
    }
   ],
   "source": [
    "### вид теоретического нормального распределения\n",
    "mu = 0\n",
    "variance = 1\n",
    "sigma = np.sqrt(variance)\n",
    "x = np.linspace(-5, 5, 100)\n",
    "plt.plot(x,sts.norm.pdf(x, mu, sigma))\n",
    "plt.show()"
   ]
  },
  {
   "cell_type": "code",
   "execution_count": 67,
   "metadata": {},
   "outputs": [
    {
     "data": {
      "image/png": "[encoded data removed]",
      "text/plain": [
       "<matplotlib.figure.Figure at 0x1c8524c3898>"
      ]
     },
     "metadata": {},
     "output_type": "display_data"
    }
   ],
   "source": [
    "mu = 0\n",
    "variance = 0.5\n",
    "sigma = np.sqrt(variance)\n",
    "x = np.linspace(-5, 5, 100)\n",
    "plt.plot(x,sts.norm.pdf(x, mu, sigma))\n",
    "plt.show()"
   ]
  },
  {
   "cell_type": "markdown",
   "metadata": {},
   "source": [
    "Как видно, для нормального распределения характерен пик, от которого плавно \n",
    "\n",
    "Любое нормальное распределение можно описать двумя числами - это его математическим ожидание и стандартным отклонением\n",
    "\n",
    "Математическое ожидание - пик на графике, в данном случае 0.\n",
    "\n",
    "Стандартное отклонение - то, насколько широко или узко расползается наш график\n",
    "\n",
    "Основной смысл стандартного отклонения - то, что в пределах 3 стандартных отклонений от математического ожидания находится 99% наблюдений"
   ]
  },
  {
   "cell_type": "code",
   "execution_count": 68,
   "metadata": {},
   "outputs": [
    {
     "data": {
      "text/plain": [
       "(array([   1.,    3.,    5.,   14.,   20.,   50.,   71.,   86.,  116.,\n",
       "         123.,  130.,  118.,   78.,   75.,   48.,   29.,   17.,    8.,\n",
       "           6.,    2.]),\n",
       " array([ 153.01163325,  155.22334084,  157.43504842,  159.64675601,\n",
       "         161.85846359,  164.07017118,  166.28187877,  168.49358635,\n",
       "         170.70529394,  172.91700152,  175.12870911,  177.3404167 ,\n",
       "         179.55212428,  181.76383187,  183.97553946,  186.18724704,\n",
       "         188.39895463,  190.61066221,  192.8223698 ,  195.03407739,\n",
       "         197.24578497]),\n",
       " <a list of 20 Patch objects>)"
      ]
     },
     "execution_count": 68,
     "metadata": {},
     "output_type": "execute_result"
    },
    {
     "data": {
      "image/png": "[encoded data removed]",
      "text/plain": [
       "<matplotlib.figure.Figure at 0x1c85350d898>"
      ]
     },
     "metadata": {},
     "output_type": "display_data"
    }
   ],
   "source": [
    "### функция normal генерирует 1000 примеров из нормального распределения с математическим ожиданием 175 и\n",
    "### и стандартным отклонением 7\n",
    "\n",
    "massive = np.random.normal(175, 7, 1000)\n",
    "plt.hist(massive, bins=20)"
   ]
  },
  {
   "cell_type": "markdown",
   "metadata": {},
   "source": [
    "Попробуем посчитать выборочные математическое ожидание и дисперсию - очень похоже с теоретическими значениями"
   ]
  },
  {
   "cell_type": "code",
   "execution_count": 69,
   "metadata": {},
   "outputs": [
    {
     "name": "stdout",
     "output_type": "stream",
     "text": [
      "Математическое ожидание:  175.400392774\n",
      "Стандартное отклонение:  6.89974456479\n"
     ]
    }
   ],
   "source": [
    "E_ = np.mean(massive)\n",
    "STD_ = np.std(massive)\n",
    "\n",
    "print('Математическое ожидание: ', E_)\n",
    "print('Стандартное отклонение: ', STD_)"
   ]
  },
  {
   "cell_type": "markdown",
   "metadata": {},
   "source": [
    "Найдем значения, которые не попадают в пределы 3 стандартных отклонений"
   ]
  },
  {
   "cell_type": "code",
   "execution_count": 70,
   "metadata": {},
   "outputs": [
    {
     "name": "stdout",
     "output_type": "stream",
     "text": [
      "197.245784972\n",
      "153.01163325\n"
     ]
    }
   ],
   "source": [
    "### \n",
    "left_value = E_ - 3 * STD_\n",
    "right_value = E_ + 3 * STD_\n",
    "\n",
    "for value in massive:\n",
    "    if (value < left_value) or (value > right_value):\n",
    "        print (value)"
   ]
  },
  {
   "cell_type": "markdown",
   "metadata": {},
   "source": [
    "Такие значения называют **выбросами**. Что с ними делать и почему они важны - будем обсуждать в течение курса\n",
    "\n",
    "А пока - еще gример нормального распределения"
   ]
  },
  {
   "cell_type": "code",
   "execution_count": 71,
   "metadata": {},
   "outputs": [
    {
     "data": {
      "text/plain": [
       "(array([   2.,    1.,    0.,    1.,    5.,    2.,    9.,   15.,   15.,\n",
       "          20.,   33.,   55.,   38.,   75.,   80.,  102.,   99.,  133.,\n",
       "         174.,  167.,  217.,  218.,  259.,  251.,  254.,  304.,  282.,\n",
       "         262.,  233.,  242.,  218.,  227.,  164.,  155.,  130.,  119.,\n",
       "          95.,   82.,   80.,   49.,   38.,   29.,   19.,   14.,   10.,\n",
       "          14.,    2.,    2.,    2.,    3.]),\n",
       " array([  5.04144672,   5.23182771,   5.42220871,   5.6125897 ,\n",
       "          5.8029707 ,   5.99335169,   6.18373269,   6.37411368,\n",
       "          6.56449468,   6.75487568,   6.94525667,   7.13563767,\n",
       "          7.32601866,   7.51639966,   7.70678065,   7.89716165,\n",
       "          8.08754264,   8.27792364,   8.46830463,   8.65868563,\n",
       "          8.84906662,   9.03944762,   9.22982861,   9.42020961,\n",
       "          9.6105906 ,   9.8009716 ,   9.9913526 ,  10.18173359,\n",
       "         10.37211459,  10.56249558,  10.75287658,  10.94325757,\n",
       "         11.13363857,  11.32401956,  11.51440056,  11.70478155,\n",
       "         11.89516255,  12.08554354,  12.27592454,  12.46630553,\n",
       "         12.65668653,  12.84706752,  13.03744852,  13.22782952,\n",
       "         13.41821051,  13.60859151,  13.7989725 ,  13.9893535 ,\n",
       "         14.17973449,  14.37011549,  14.56049648]),\n",
       " <a list of 50 Patch objects>)"
      ]
     },
     "execution_count": 71,
     "metadata": {},
     "output_type": "execute_result"
    },
    {
     "data": {
      "image/png": "[encoded data removed]",
      "text/plain": [
       "<matplotlib.figure.Figure at 0x1c85285fcf8>"
      ]
     },
     "metadata": {},
     "output_type": "display_data"
    }
   ],
   "source": [
    "### длина стебеля. Математическое ожидание - 10 см, стандартное отклонение 1.4 см\n",
    "\n",
    "massive = np.random.normal(10, 1.4, 5000)\n",
    "plt.hist(massive, bins=50)"
   ]
  },
  {
   "cell_type": "markdown",
   "metadata": {},
   "source": [
    "Бывают и другие виды типичных распределений вероятности - о них мы будем говорить в ходе курса"
   ]
  }
 ],
 "metadata": {
  "kernelspec": {
   "display_name": "Python 3",
   "language": "python",
   "name": "python3"
  },
  "language_info": {
   "codemirror_mode": {
    "name": "ipython",
    "version": 3
   },
   "file_extension": ".py",
   "mimetype": "text/x-python",
   "name": "python",
   "nbconvert_exporter": "python",
   "pygments_lexer": "ipython3",
   "version": "3.6.1"
  }
 },
 "nbformat": 4,
 "nbformat_minor": 2
}

{
 "cells": [
  {
   "cell_type": "markdown",
   "metadata": {},
   "source": [
    "# Sentiment analysis"
   ]
  },
  {
   "cell_type": "code",
   "execution_count": null,
   "metadata": {},
   "outputs": [],
   "source": [
    "#датасет взят отсюда: https://www.crowdflower.com/data-for-everyone/"
   ]
  },
  {
   "cell_type": "code",
   "execution_count": 126,
   "metadata": {},
   "outputs": [],
   "source": [
    "import pandas as pd\n",
    "from sklearn.preprocessing import LabelEncoder, OneHotEncoder\n",
    "from sklearn.feature_extraction.text import TfidfVectorizer\n",
    "from sklearn.linear_model import LogisticRegression\n",
    "from sklearn.metrics import accuracy_score"
   ]
  },
  {
   "cell_type": "code",
   "execution_count": 127,
   "metadata": {},
   "outputs": [
    {
     "data": {
      "text/html": [
       "<div>\n",
       "<style scoped>\n",
       "    .dataframe tbody tr th:only-of-type {\n",
       "        vertical-align: middle;\n",
       "    }\n",
       "\n",
       "    .dataframe tbody tr th {\n",
       "        vertical-align: top;\n",
       "    }\n",
       "\n",
       "    .dataframe thead th {\n",
       "        text-align: right;\n",
       "    }\n",
       "</style>\n",
       "<table border=\"1\" class=\"dataframe\">\n",
       "  <thead>\n",
       "    <tr style=\"text-align: right;\">\n",
       "      <th></th>\n",
       "      <th>tweet_id</th>\n",
       "      <th>sentiment</th>\n",
       "      <th>author</th>\n",
       "      <th>content</th>\n",
       "    </tr>\n",
       "  </thead>\n",
       "  <tbody>\n",
       "    <tr>\n",
       "      <th>0</th>\n",
       "      <td>1956967341</td>\n",
       "      <td>empty</td>\n",
       "      <td>xoshayzers</td>\n",
       "      <td>@tiffanylue i know  i was listenin to bad habi...</td>\n",
       "    </tr>\n",
       "    <tr>\n",
       "      <th>1</th>\n",
       "      <td>1956967666</td>\n",
       "      <td>sadness</td>\n",
       "      <td>wannamama</td>\n",
       "      <td>Layin n bed with a headache  ughhhh...waitin o...</td>\n",
       "    </tr>\n",
       "    <tr>\n",
       "      <th>2</th>\n",
       "      <td>1956967696</td>\n",
       "      <td>sadness</td>\n",
       "      <td>coolfunky</td>\n",
       "      <td>Funeral ceremony...gloomy friday...</td>\n",
       "    </tr>\n",
       "    <tr>\n",
       "      <th>3</th>\n",
       "      <td>1956967789</td>\n",
       "      <td>enthusiasm</td>\n",
       "      <td>czareaquino</td>\n",
       "      <td>wants to hang out with friends SOON!</td>\n",
       "    </tr>\n",
       "    <tr>\n",
       "      <th>4</th>\n",
       "      <td>1956968416</td>\n",
       "      <td>neutral</td>\n",
       "      <td>xkilljoyx</td>\n",
       "      <td>@dannycastillo We want to trade with someone w...</td>\n",
       "    </tr>\n",
       "  </tbody>\n",
       "</table>\n",
       "</div>"
      ],
      "text/plain": [
       "     tweet_id   sentiment       author  \\\n",
       "0  1956967341       empty   xoshayzers   \n",
       "1  1956967666     sadness    wannamama   \n",
       "2  1956967696     sadness    coolfunky   \n",
       "3  1956967789  enthusiasm  czareaquino   \n",
       "4  1956968416     neutral    xkilljoyx   \n",
       "\n",
       "                                             content  \n",
       "0  @tiffanylue i know  i was listenin to bad habi...  \n",
       "1  Layin n bed with a headache  ughhhh...waitin o...  \n",
       "2                Funeral ceremony...gloomy friday...  \n",
       "3               wants to hang out with friends SOON!  \n",
       "4  @dannycastillo We want to trade with someone w...  "
      ]
     },
     "execution_count": 127,
     "metadata": {},
     "output_type": "execute_result"
    }
   ],
   "source": [
    "data = pd.read_csv(\"text_emotion.csv\")\n",
    "data.head()"
   ]
  },
  {
   "cell_type": "code",
   "execution_count": 129,
   "metadata": {},
   "outputs": [],
   "source": [
    "label_encoder = LabelEncoder()\n",
    "data['class'] = pd.Series(label_encoder.fit_transform(data['sentiment']))"
   ]
  },
  {
   "cell_type": "code",
   "execution_count": 130,
   "metadata": {},
   "outputs": [],
   "source": [
    "from sklearn.cross_validation import train_test_split\n",
    "train_x, test_x, train_y, test_y = train_test_split(data['content'], data['class'], test_size=0.3, random_state=0)"
   ]
  },
  {
   "cell_type": "code",
   "execution_count": 131,
   "metadata": {},
   "outputs": [],
   "source": [
    "tfidf_vectorizer =  TfidfVectorizer(ngram_range=(1,2))\n",
    "tfidf_matrix_train = tfidf_vectorizer.fit_transform(train_x)\n",
    "tfidf_matrix_test = tfidf_vectorizer.transform(test_x)"
   ]
  },
  {
   "cell_type": "code",
   "execution_count": 132,
   "metadata": {},
   "outputs": [
    {
     "data": {
      "text/plain": [
       "LogisticRegression(C=1.0, class_weight=None, dual=False, fit_intercept=True,\n",
       "          intercept_scaling=1, max_iter=100, multi_class='ovr', n_jobs=1,\n",
       "          penalty='l2', random_state=None, solver='liblinear', tol=0.0001,\n",
       "          verbose=0, warm_start=False)"
      ]
     },
     "execution_count": 132,
     "metadata": {},
     "output_type": "execute_result"
    }
   ],
   "source": [
    "model =  LogisticRegression()\n",
    "model.fit(tfidf_matrix_train, train_y)"
   ]
  },
  {
   "cell_type": "code",
   "execution_count": 134,
   "metadata": {},
   "outputs": [
    {
     "name": "stdout",
     "output_type": "stream",
     "text": [
      "Accuracy = 35.325%\n"
     ]
    }
   ],
   "source": [
    "predictions = model.predict(tfidf_matrix_test)\n",
    "accuracy = accuracy_score(predictions, test_y)\n",
    "print(\"Accuracy = {0}%\".format(100*accuracy))"
   ]
  },
  {
   "cell_type": "code",
   "execution_count": 137,
   "metadata": {
    "scrolled": false
   },
   "outputs": [
    {
     "name": "stdout",
     "output_type": "stream",
     "text": [
      "welcome to all new catvampees, enjoy the ride\n",
      "---------\n",
      "predicted: happiness, actual: love\n",
      "\n",
      "\n",
      "...getting our site transferred over to a new server ... this is going to be quite a job\n",
      "---------\n",
      "predicted: worry, actual: worry\n",
      "\n",
      "\n",
      "@Nigganelle yeah do you feel anything at all? I remembered I was looking at loopt on his phone and that nigga was coughin all over that\n",
      "---------\n",
      "predicted: worry, actual: neutral\n",
      "\n",
      "\n",
      "is going to have a relaxing, hot bath  goodnight for now then twits, &amp; dont worry andy i love you more than twitter hehe\n",
      "---------\n",
      "predicted: love, actual: love\n",
      "\n",
      "\n",
      "Haha how exciting  wat does it look like?!\n",
      "---------\n",
      "predicted: worry, actual: happiness\n",
      "\n",
      "\n",
      "@officialTila YES!!!\n",
      "---------\n",
      "predicted: neutral, actual: neutral\n",
      "\n",
      "\n",
      "@EveD I can't say I've tried, but then again, I haven't tried with a sword either   Not yet, anyway.\n",
      "---------\n",
      "predicted: worry, actual: neutral\n",
      "\n",
      "\n",
      "@SeanLights Nooooo!!!!! Dont You Dare! Lol =( Im Gonna Cry  I &lt;3 Your Hair!\n",
      "---------\n",
      "predicted: worry, actual: sadness\n",
      "\n",
      "\n",
      "@Arcania, in about two hours I'm setting out on a 600-mile drive home. Mostly I'm hoping it goes quickly.\n",
      "---------\n",
      "predicted: neutral, actual: worry\n",
      "\n",
      "\n",
      "I'm at work!!!! Ugghhhhh someone save me now\n",
      "---------\n",
      "predicted: worry, actual: worry\n",
      "\n",
      "\n",
      "Is on 'msn', but nones on! :@  :'(\n",
      "---------\n",
      "predicted: neutral, actual: sadness\n",
      "\n",
      "\n",
      "How did I manage to schedule all my bills to eat my money all at the same time?  EVE, rent and phone are all within a couple days -.-\n",
      "---------\n",
      "predicted: worry, actual: worry\n",
      "\n",
      "\n"
     ]
    }
   ],
   "source": [
    "for i in range(105, 150, 4):\n",
    "    example_text = test_x.iloc[i]\n",
    "    example_class = label_encoder.classes_[test_y.iloc[i]]\n",
    "    predicted_cl = model.predict(tfidf_matrix_test[i])[0]\n",
    "    predicted_class = label_encoder.classes_[predicted_cl]\n",
    "    print(\"{0}\\n{1}\\npredicted: {2}, actual: {3}\\n\\n\".format(example_text, '-'*9, predicted_class, example_class))    "
   ]
  }
 ],
 "metadata": {
  "kernelspec": {
   "display_name": "Python 3",
   "language": "python",
   "name": "python3"
  },
  "language_info": {
   "codemirror_mode": {
    "name": "ipython",
    "version": 3
   },
   "file_extension": ".py",
   "mimetype": "text/x-python",
   "name": "python",
   "nbconvert_exporter": "python",
   "pygments_lexer": "ipython3",
   "version": "3.5.2"
  }
 },
 "nbformat": 4,
 "nbformat_minor": 2
}

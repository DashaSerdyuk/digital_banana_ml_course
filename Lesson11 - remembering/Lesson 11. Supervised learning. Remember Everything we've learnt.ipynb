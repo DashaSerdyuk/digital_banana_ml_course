{
 "cells": [
  {
   "cell_type": "code",
   "execution_count": 151,
   "metadata": {},
   "outputs": [],
   "source": [
    "from __future__ import division, print_function\n",
    "import warnings\n",
    "warnings.filterwarnings('ignore')\n",
    "import matplotlib as mpl\n",
    "import matplotlib.pyplot as plt\n",
    "import numpy as np\n",
    "from sklearn.cross_validation import cross_val_score, KFold, train_test_split\n",
    "from sklearn.linear_model import LassoCV, RidgeCV, Lasso, Ridge,  LogisticRegression, LogisticRegressionCV\n",
    "from sklearn.metrics import mean_absolute_error, mean_squared_error,  f1_score, accuracy_score\n",
    "import pandas as pd\n",
    "from sklearn.preprocessing import PolynomialFeatures\n",
    "from sklearn.model_selection import cross_val_score, StratifiedKFold, GridSearchCV \n",
    "import seaborn as sns\n",
    "from sklearn.svm import SVC, LinearSVC\n",
    "from sklearn.neighbors import KNeighborsClassifier\n",
    "from sklearn.tree import DecisionTreeClassifier\n",
    "from sklearn.ensemble import RandomForestClassifier\n",
    "from catboost import CatBoostClassifier\n",
    "import xgboost as xgb"
   ]
  },
  {
   "cell_type": "code",
   "execution_count": 152,
   "metadata": {},
   "outputs": [],
   "source": [
    "# dataset from https://archive.ics.uci.edu/ml/datasets/default+of+credit+card+clients#\n",
    "data = pd.read_csv(\"data/default of credit card clients.csv\",  sep=';')\n",
    "data.columns = list(data.iloc[0])\n",
    "data = data.drop(0)"
   ]
  },
  {
   "cell_type": "markdown",
   "metadata": {},
   "source": [
    "Джентельменский набор для кросс-валидации"
   ]
  },
  {
   "cell_type": "code",
   "execution_count": 153,
   "metadata": {},
   "outputs": [],
   "source": [
    "X = data.drop('default payment next month',  axis=1)\n",
    "y = data['default payment next month']\n",
    "train_X, test_X, train_y, test_y = train_test_split(X, y, test_size=0.3, random_state=0)"
   ]
  },
  {
   "cell_type": "markdown",
   "metadata": {},
   "source": [
    "датасет для результатов"
   ]
  },
  {
   "cell_type": "code",
   "execution_count": 154,
   "metadata": {},
   "outputs": [],
   "source": [
    "results = pd.DataFrame(columns = [\"model\", \"accuracy\", \"f1_score\"])"
   ]
  },
  {
   "cell_type": "markdown",
   "metadata": {},
   "source": [
    "Поехали!"
   ]
  },
  {
   "cell_type": "code",
   "execution_count": 155,
   "metadata": {},
   "outputs": [],
   "source": [
    "def pipeline(model, model_name):\n",
    "    model.fit(train_X, train_y)\n",
    "    predictions = pd.Series(model.predict(test_X))\n",
    "    accuracy = accuracy_score(test_y, predictions)\n",
    "    f1score = f1_score(test_y,predictions, average=\"weighted\")\n",
    "    results.loc[len(results)] = [model_name,  accuracy, f1score]"
   ]
  },
  {
   "cell_type": "markdown",
   "metadata": {},
   "source": [
    "### Логистическая регрессия"
   ]
  },
  {
   "cell_type": "code",
   "execution_count": 156,
   "metadata": {},
   "outputs": [],
   "source": [
    "logistic_regression = LogisticRegression(C=0.1, n_jobs=-1, random_state=17)\n",
    "pipeline(logistic_regression, \"linear_regression\")"
   ]
  },
  {
   "cell_type": "markdown",
   "metadata": {},
   "source": [
    "### SVM"
   ]
  },
  {
   "cell_type": "code",
   "execution_count": 157,
   "metadata": {},
   "outputs": [],
   "source": [
    "svc_classifier = LinearSVC()\n",
    "pipeline(svc_classifier, \"linear svc\")"
   ]
  },
  {
   "cell_type": "markdown",
   "metadata": {},
   "source": [
    "### Knn"
   ]
  },
  {
   "cell_type": "code",
   "execution_count": 158,
   "metadata": {},
   "outputs": [],
   "source": [
    "knn_classifier = KNeighborsClassifier(n_neighbors=5)\n",
    "pipeline(knn_classifier, \"knn_classifier\")"
   ]
  },
  {
   "cell_type": "markdown",
   "metadata": {},
   "source": [
    "### Decision Tree"
   ]
  },
  {
   "cell_type": "code",
   "execution_count": 159,
   "metadata": {},
   "outputs": [],
   "source": [
    "decision_classifier = DecisionTreeClassifier()\n",
    "pipeline(decision_classifier, \"decision_tree\")"
   ]
  },
  {
   "cell_type": "markdown",
   "metadata": {},
   "source": [
    "### Random Forest"
   ]
  },
  {
   "cell_type": "code",
   "execution_count": 160,
   "metadata": {},
   "outputs": [],
   "source": [
    "random_forest = RandomForestClassifier(max_depth=2, random_state=0)\n",
    "pipeline(random_forest, \"random_forest\")"
   ]
  },
  {
   "cell_type": "markdown",
   "metadata": {},
   "source": [
    "### xgboost (бустинг)"
   ]
  },
  {
   "cell_type": "code",
   "execution_count": 161,
   "metadata": {},
   "outputs": [],
   "source": [
    "gbm = xgb.XGBClassifier(max_depth=3, n_estimators=300, learning_rate=0.05)\n",
    "gbm.fit(train_X.as_matrix(), train_y.as_matrix())\n",
    "predictions = gbm.predict(test_X.as_matrix())\n",
    "acc = accuracy_score(test_y.as_matrix(), predictions)\n",
    "\n",
    "f1s = f1_score([float(x) for x in predictions], [float(x) for x in test_y.as_matrix()]) \n",
    "# очень странный хак, fscore никак не хотел считаться, пришлось захардкодить так\n",
    "results.loc[len(results)] = [\"xgboost\",  acc, f1s]"
   ]
  },
  {
   "cell_type": "markdown",
   "metadata": {},
   "source": [
    "### catboost (бустинг)"
   ]
  },
  {
   "cell_type": "code",
   "execution_count": 162,
   "metadata": {
    "scrolled": true
   },
   "outputs": [
    {
     "name": "stdout",
     "output_type": "stream",
     "text": [
      "0:\tlearn: -0.4616568\ttotal: 42ms\tremaining: 2.06s\n",
      "1:\tlearn: -0.4478509\ttotal: 86ms\tremaining: 2.06s\n",
      "2:\tlearn: -0.4436145\ttotal: 127ms\tremaining: 2s\n",
      "3:\tlearn: -0.4414908\ttotal: 170ms\tremaining: 1.95s\n",
      "4:\tlearn: -0.4404160\ttotal: 210ms\tremaining: 1.89s\n",
      "5:\tlearn: -0.4389239\ttotal: 262ms\tremaining: 1.92s\n",
      "6:\tlearn: -0.4369893\ttotal: 307ms\tremaining: 1.89s\n",
      "7:\tlearn: -0.4361928\ttotal: 351ms\tremaining: 1.84s\n",
      "8:\tlearn: -0.4350004\ttotal: 395ms\tremaining: 1.8s\n",
      "9:\tlearn: -0.4343219\ttotal: 439ms\tremaining: 1.75s\n",
      "10:\tlearn: -0.4335078\ttotal: 486ms\tremaining: 1.72s\n",
      "11:\tlearn: -0.4328730\ttotal: 533ms\tremaining: 1.69s\n",
      "12:\tlearn: -0.4318132\ttotal: 576ms\tremaining: 1.64s\n",
      "13:\tlearn: -0.4316347\ttotal: 619ms\tremaining: 1.59s\n",
      "14:\tlearn: -0.4313837\ttotal: 661ms\tremaining: 1.54s\n",
      "15:\tlearn: -0.4308777\ttotal: 712ms\tremaining: 1.51s\n",
      "16:\tlearn: -0.4305176\ttotal: 757ms\tremaining: 1.47s\n",
      "17:\tlearn: -0.4302589\ttotal: 801ms\tremaining: 1.42s\n",
      "18:\tlearn: -0.4301209\ttotal: 844ms\tremaining: 1.38s\n",
      "19:\tlearn: -0.4299416\ttotal: 886ms\tremaining: 1.33s\n",
      "20:\tlearn: -0.4295831\ttotal: 933ms\tremaining: 1.29s\n",
      "21:\tlearn: -0.4293595\ttotal: 979ms\tremaining: 1.25s\n",
      "22:\tlearn: -0.4291246\ttotal: 1.02s\tremaining: 1.2s\n",
      "23:\tlearn: -0.4288643\ttotal: 1.06s\tremaining: 1.15s\n",
      "24:\tlearn: -0.4283224\ttotal: 1.1s\tremaining: 1.1s\n",
      "25:\tlearn: -0.4279673\ttotal: 1.16s\tremaining: 1.07s\n",
      "26:\tlearn: -0.4277589\ttotal: 1.21s\tremaining: 1.03s\n",
      "27:\tlearn: -0.4274799\ttotal: 1.26s\tremaining: 987ms\n",
      "28:\tlearn: -0.4272596\ttotal: 1.3s\tremaining: 942ms\n",
      "29:\tlearn: -0.4270635\ttotal: 1.34s\tremaining: 896ms\n",
      "30:\tlearn: -0.4268702\ttotal: 1.39s\tremaining: 852ms\n",
      "31:\tlearn: -0.4267461\ttotal: 1.43s\tremaining: 806ms\n",
      "32:\tlearn: -0.4267374\ttotal: 1.48s\tremaining: 761ms\n",
      "33:\tlearn: -0.4264411\ttotal: 1.52s\tremaining: 716ms\n",
      "34:\tlearn: -0.4261994\ttotal: 1.56s\tremaining: 671ms\n",
      "35:\tlearn: -0.4260115\ttotal: 1.61s\tremaining: 628ms\n",
      "36:\tlearn: -0.4258700\ttotal: 1.66s\tremaining: 582ms\n",
      "37:\tlearn: -0.4252794\ttotal: 1.7s\tremaining: 537ms\n",
      "38:\tlearn: -0.4251185\ttotal: 1.74s\tremaining: 491ms\n",
      "39:\tlearn: -0.4249951\ttotal: 1.79s\tremaining: 447ms\n",
      "40:\tlearn: -0.4248106\ttotal: 1.83s\tremaining: 403ms\n",
      "41:\tlearn: -0.4246696\ttotal: 1.88s\tremaining: 359ms\n",
      "42:\tlearn: -0.4245123\ttotal: 1.93s\tremaining: 314ms\n",
      "43:\tlearn: -0.4243107\ttotal: 1.97s\tremaining: 269ms\n",
      "44:\tlearn: -0.4241151\ttotal: 2.01s\tremaining: 224ms\n",
      "45:\tlearn: -0.4239990\ttotal: 2.06s\tremaining: 179ms\n",
      "46:\tlearn: -0.4238782\ttotal: 2.1s\tremaining: 134ms\n",
      "47:\tlearn: -0.4236847\ttotal: 2.15s\tremaining: 89.5ms\n",
      "48:\tlearn: -0.4235764\ttotal: 2.19s\tremaining: 44.7ms\n",
      "49:\tlearn: -0.4232004\ttotal: 2.23s\tremaining: 0us\n"
     ]
    }
   ],
   "source": [
    "catboost_classifier = CatBoostClassifier(learning_rate=1, depth=2, loss_function='MultiClass', iterations=50)\n",
    "catboost_classifier.fit(train_X.as_matrix(), train_y.as_matrix())\n",
    "\n",
    "predictions = catboost_classifier.predict(test_X)\n",
    "\n",
    "predictions = np.concatenate(predictions)\n",
    "test_y = [float(x) for x in list(test_y)]\n",
    "acc = accuracy_score(preds, test_y)\n",
    "f1s = f1_score(preds, test_y)\n",
    "results.loc[len(results)] = [\"catboost\",  acc, f1s]"
   ]
  },
  {
   "cell_type": "code",
   "execution_count": 163,
   "metadata": {},
   "outputs": [
    {
     "data": {
      "text/html": [
       "<div>\n",
       "<style>\n",
       "    .dataframe thead tr:only-child th {\n",
       "        text-align: right;\n",
       "    }\n",
       "\n",
       "    .dataframe thead th {\n",
       "        text-align: left;\n",
       "    }\n",
       "\n",
       "    .dataframe tbody tr th {\n",
       "        vertical-align: top;\n",
       "    }\n",
       "</style>\n",
       "<table border=\"1\" class=\"dataframe\">\n",
       "  <thead>\n",
       "    <tr style=\"text-align: right;\">\n",
       "      <th></th>\n",
       "      <th>model</th>\n",
       "      <th>accuracy</th>\n",
       "      <th>f1_score</th>\n",
       "    </tr>\n",
       "  </thead>\n",
       "  <tbody>\n",
       "    <tr>\n",
       "      <th>0</th>\n",
       "      <td>linear_regression</td>\n",
       "      <td>0.784556</td>\n",
       "      <td>0.689951</td>\n",
       "    </tr>\n",
       "    <tr>\n",
       "      <th>1</th>\n",
       "      <td>linear svc</td>\n",
       "      <td>0.779333</td>\n",
       "      <td>0.689788</td>\n",
       "    </tr>\n",
       "    <tr>\n",
       "      <th>2</th>\n",
       "      <td>knn_classifier</td>\n",
       "      <td>0.751889</td>\n",
       "      <td>0.719920</td>\n",
       "    </tr>\n",
       "    <tr>\n",
       "      <th>3</th>\n",
       "      <td>decision_tree</td>\n",
       "      <td>0.724889</td>\n",
       "      <td>0.729523</td>\n",
       "    </tr>\n",
       "    <tr>\n",
       "      <th>4</th>\n",
       "      <td>random_forest</td>\n",
       "      <td>0.801444</td>\n",
       "      <td>0.748470</td>\n",
       "    </tr>\n",
       "    <tr>\n",
       "      <th>5</th>\n",
       "      <td>xgboost</td>\n",
       "      <td>0.824667</td>\n",
       "      <td>0.469401</td>\n",
       "    </tr>\n",
       "    <tr>\n",
       "      <th>6</th>\n",
       "      <td>catboost</td>\n",
       "      <td>0.822889</td>\n",
       "      <td>0.473232</td>\n",
       "    </tr>\n",
       "  </tbody>\n",
       "</table>\n",
       "</div>"
      ],
      "text/plain": [
       "               model  accuracy  f1_score\n",
       "0  linear_regression  0.784556  0.689951\n",
       "1         linear svc  0.779333  0.689788\n",
       "2     knn_classifier  0.751889  0.719920\n",
       "3      decision_tree  0.724889  0.729523\n",
       "4      random_forest  0.801444  0.748470\n",
       "5            xgboost  0.824667  0.469401\n",
       "6           catboost  0.822889  0.473232"
      ]
     },
     "execution_count": 163,
     "metadata": {},
     "output_type": "execute_result"
    }
   ],
   "source": [
    "results"
   ]
  }
 ],
 "metadata": {
  "kernelspec": {
   "display_name": "Python 3",
   "language": "python",
   "name": "python3"
  },
  "language_info": {
   "codemirror_mode": {
    "name": "ipython",
    "version": 3
   },
   "file_extension": ".py",
   "mimetype": "text/x-python",
   "name": "python",
   "nbconvert_exporter": "python",
   "pygments_lexer": "ipython3",
   "version": "3.5.2"
  }
 },
 "nbformat": 4,
 "nbformat_minor": 2
}

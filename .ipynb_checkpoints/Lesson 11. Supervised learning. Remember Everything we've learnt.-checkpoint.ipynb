{
 "cells": [
  {
   "cell_type": "code",
   "execution_count": 2,
   "metadata": {},
   "outputs": [],
   "source": [
    "from __future__ import division, print_function\n",
    "import warnings\n",
    "warnings.filterwarnings('ignore')\n",
    "import matplotlib as mpl\n",
    "import matplotlib.pyplot as plt\n",
    "import numpy as np\n",
    "from sklearn.cross_validation import cross_val_score, KFold, train_test_split\n",
    "from sklearn.linear_model import LassoCV, RidgeCV, Lasso, Ridge,  LogisticRegression, LogisticRegressionCV\n",
    "from sklearn.metrics import mean_absolute_error, mean_squared_error,  f1_score, accuracy_score\n",
    "import pandas as pd\n",
    "from sklearn.preprocessing import PolynomialFeatures\n",
    "from sklearn.model_selection import cross_val_score, StratifiedKFold, GridSearchCV \n",
    "import seaborn as sns\n",
    "from sklearn.svm import SVC, LinearSVC\n",
    "from sklearn.neighbors import KNeighborsClassifier"
   ]
  },
  {
   "cell_type": "code",
   "execution_count": 3,
   "metadata": {},
   "outputs": [],
   "source": [
    "# dataset from https://archive.ics.uci.edu/ml/datasets/default+of+credit+card+clients#\n",
    "data = pd.read_csv(\"data/default of credit card clients.csv\",  sep=';')\n",
    "data.columns = list(data.iloc[0])\n",
    "data = data.drop(0)"
   ]
  },
  {
   "cell_type": "markdown",
   "metadata": {},
   "source": [
    "Джентельменский набор для кросс-валидации"
   ]
  },
  {
   "cell_type": "code",
   "execution_count": 4,
   "metadata": {},
   "outputs": [],
   "source": [
    "X = data.drop('default payment next month',  axis=1)\n",
    "y = data['default payment next month']\n",
    "train_X, test_X, train_y, test_y = train_test_split(X, y, test_size=0.3, random_state=0)"
   ]
  },
  {
   "cell_type": "markdown",
   "metadata": {},
   "source": [
    "Поехали!"
   ]
  },
  {
   "cell_type": "code",
   "execution_count": 5,
   "metadata": {},
   "outputs": [],
   "source": [
    "def pipeline(model):\n",
    "    print(model)\n",
    "    model.fit(train_X.as_matrix(), train_y.as_matrix())\n",
    "    print('fitted!')\n",
    "    predictions = model.predict(test_X)\n",
    "    print('predicted!')\n",
    "    accuracy = accuracy_score(predictions, test_y)\n",
    "    f1score = f1_score(predictions, test_y, average=\"weighted\")\n",
    "    print(\"\\nAccuracy score: {0:.3}\".format(accuracy))\n",
    "    print(\"f1 score: {0:.3}\".format(f1score))\n",
    "    return model"
   ]
  },
  {
   "cell_type": "markdown",
   "metadata": {},
   "source": [
    "### Логистическая регрессия"
   ]
  },
  {
   "cell_type": "code",
   "execution_count": 7,
   "metadata": {},
   "outputs": [
    {
     "name": "stdout",
     "output_type": "stream",
     "text": [
      "LogisticRegression(C=0.1, class_weight=None, dual=False, fit_intercept=True,\n",
      "          intercept_scaling=1, max_iter=100, multi_class='ovr', n_jobs=-1,\n",
      "          penalty='l2', random_state=17, solver='liblinear', tol=0.0001,\n",
      "          verbose=0, warm_start=False)\n",
      "fitted!\n",
      "predicted!\n",
      "\n",
      "Accuracy score: 0.785\n",
      "f1 score: 0.879\n"
     ]
    }
   ],
   "source": [
    "logistic_regression = LogisticRegression(C=0.1, n_jobs=-1, random_state=17)\n",
    "res_log_regression = pipeline(logistic_regression)"
   ]
  },
  {
   "cell_type": "markdown",
   "metadata": {},
   "source": [
    "### SVM"
   ]
  },
  {
   "cell_type": "code",
   "execution_count": 6,
   "metadata": {},
   "outputs": [
    {
     "name": "stdout",
     "output_type": "stream",
     "text": [
      "LinearSVC(C=1.0, class_weight=None, dual=True, fit_intercept=True,\n",
      "     intercept_scaling=1, loss='squared_hinge', max_iter=1000,\n",
      "     multi_class='ovr', penalty='l2', random_state=None, tol=0.0001,\n",
      "     verbose=0)\n",
      "fitted!\n",
      "predicted!\n",
      "\n",
      "Accuracy score: 0.671\n",
      "f1 score: 0.677\n"
     ]
    }
   ],
   "source": [
    "svc_classifier = LinearSVC()\n",
    "res_svc_classifier = pipeline(svc_classifier)"
   ]
  },
  {
   "cell_type": "markdown",
   "metadata": {},
   "source": [
    "### Knn"
   ]
  },
  {
   "cell_type": "code",
   "execution_count": 8,
   "metadata": {},
   "outputs": [
    {
     "name": "stdout",
     "output_type": "stream",
     "text": [
      "KNeighborsClassifier(algorithm='auto', leaf_size=30, metric='minkowski',\n",
      "           metric_params=None, n_jobs=1, n_neighbors=5, p=2,\n",
      "           weights='uniform')\n",
      "fitted!\n",
      "predicted!\n",
      "\n",
      "Accuracy score: 0.752\n",
      "f1 score: 0.784\n"
     ]
    }
   ],
   "source": [
    "knn_classifier = KNeighborsClassifier(n_neighbors=5)\n",
    "res_knn_classifier = pipeline(knn_classifier)"
   ]
  },
  {
   "cell_type": "code",
   "execution_count": null,
   "metadata": {},
   "outputs": [],
   "source": []
  },
  {
   "cell_type": "code",
   "execution_count": null,
   "metadata": {},
   "outputs": [],
   "source": []
  }
 ],
 "metadata": {
  "kernelspec": {
   "display_name": "Python 3",
   "language": "python",
   "name": "python3"
  },
  "language_info": {
   "codemirror_mode": {
    "name": "ipython",
    "version": 3
   },
   "file_extension": ".py",
   "mimetype": "text/x-python",
   "name": "python",
   "nbconvert_exporter": "python",
   "pygments_lexer": "ipython3",
   "version": "3.5.2"
  }
 },
 "nbformat": 4,
 "nbformat_minor": 2
}
